{
 "cells": [
  {
   "cell_type": "code",
   "execution_count": 3,
   "metadata": {
    "collapsed": false
   },
   "outputs": [],
   "source": [
    "import pandas as pd\n",
    "%matplotlib inline\n",
    "import matplotlib.pyplot as plt\n",
    "df_sf = pd.read_csv(\"sf_crime_report.csv\", parse_dates=['date','time'], infer_datetime_format=True)\n",
    "df_sf = df_sf[['category','descript', 'date', 'time', 'lon', 'lat']]\n"
   ]
  },
  {
   "cell_type": "code",
   "execution_count": 10,
   "metadata": {
    "collapsed": false
   },
   "outputs": [
    {
     "data": {
      "text/html": [
       "<div>\n",
       "<table border=\"1\" class=\"dataframe\">\n",
       "  <thead>\n",
       "    <tr style=\"text-align: right;\">\n",
       "      <th></th>\n",
       "      <th>descript</th>\n",
       "      <th>date</th>\n",
       "      <th>time</th>\n",
       "      <th>lon</th>\n",
       "      <th>lat</th>\n",
       "    </tr>\n",
       "    <tr>\n",
       "      <th>category</th>\n",
       "      <th></th>\n",
       "      <th></th>\n",
       "      <th></th>\n",
       "      <th></th>\n",
       "      <th></th>\n",
       "    </tr>\n",
       "  </thead>\n",
       "  <tbody>\n",
       "    <tr>\n",
       "      <th>LARCENY/THEFT</th>\n",
       "      <td>8210</td>\n",
       "      <td>8211</td>\n",
       "      <td>8211</td>\n",
       "      <td>8211</td>\n",
       "      <td>8211</td>\n",
       "    </tr>\n",
       "    <tr>\n",
       "      <th>OTHER OFFENSES</th>\n",
       "      <td>3719</td>\n",
       "      <td>3719</td>\n",
       "      <td>3719</td>\n",
       "      <td>3719</td>\n",
       "      <td>3719</td>\n",
       "    </tr>\n",
       "    <tr>\n",
       "      <th>NON-CRIMINAL</th>\n",
       "      <td>3553</td>\n",
       "      <td>3554</td>\n",
       "      <td>3554</td>\n",
       "      <td>3554</td>\n",
       "      <td>3554</td>\n",
       "    </tr>\n",
       "    <tr>\n",
       "      <th>ASSAULT</th>\n",
       "      <td>2399</td>\n",
       "      <td>2399</td>\n",
       "      <td>2399</td>\n",
       "      <td>2399</td>\n",
       "      <td>2399</td>\n",
       "    </tr>\n",
       "    <tr>\n",
       "      <th>VANDALISM</th>\n",
       "      <td>1545</td>\n",
       "      <td>1545</td>\n",
       "      <td>1545</td>\n",
       "      <td>1545</td>\n",
       "      <td>1545</td>\n",
       "    </tr>\n",
       "    <tr>\n",
       "      <th>BURGLARY</th>\n",
       "      <td>1541</td>\n",
       "      <td>1541</td>\n",
       "      <td>1541</td>\n",
       "      <td>1541</td>\n",
       "      <td>1541</td>\n",
       "    </tr>\n",
       "    <tr>\n",
       "      <th>WARRANTS</th>\n",
       "      <td>1539</td>\n",
       "      <td>1539</td>\n",
       "      <td>1539</td>\n",
       "      <td>1539</td>\n",
       "      <td>1539</td>\n",
       "    </tr>\n",
       "    <tr>\n",
       "      <th>VEHICLE THEFT</th>\n",
       "      <td>1468</td>\n",
       "      <td>1468</td>\n",
       "      <td>1468</td>\n",
       "      <td>1468</td>\n",
       "      <td>1468</td>\n",
       "    </tr>\n",
       "    <tr>\n",
       "      <th>DRUG/NARCOTIC</th>\n",
       "      <td>1452</td>\n",
       "      <td>1452</td>\n",
       "      <td>1452</td>\n",
       "      <td>1452</td>\n",
       "      <td>1452</td>\n",
       "    </tr>\n",
       "    <tr>\n",
       "      <th>MISSING PERSON</th>\n",
       "      <td>1002</td>\n",
       "      <td>1003</td>\n",
       "      <td>1003</td>\n",
       "      <td>1003</td>\n",
       "      <td>1003</td>\n",
       "    </tr>\n",
       "  </tbody>\n",
       "</table>\n",
       "</div>"
      ],
      "text/plain": [
       "                descript  date  time   lon   lat\n",
       "category                                        \n",
       "LARCENY/THEFT       8210  8211  8211  8211  8211\n",
       "OTHER OFFENSES      3719  3719  3719  3719  3719\n",
       "NON-CRIMINAL        3553  3554  3554  3554  3554\n",
       "ASSAULT             2399  2399  2399  2399  2399\n",
       "VANDALISM           1545  1545  1545  1545  1545\n",
       "BURGLARY            1541  1541  1541  1541  1541\n",
       "WARRANTS            1539  1539  1539  1539  1539\n",
       "VEHICLE THEFT       1468  1468  1468  1468  1468\n",
       "DRUG/NARCOTIC       1452  1452  1452  1452  1452\n",
       "MISSING PERSON      1002  1003  1003  1003  1003"
      ]
     },
     "execution_count": 10,
     "metadata": {},
     "output_type": "execute_result"
    }
   ],
   "source": [
    "df_sf.groupby('category').count().sort('descript',ascending=False).head(10)"
   ]
  },
  {
   "cell_type": "code",
   "execution_count": 39,
   "metadata": {
    "collapsed": false
   },
   "outputs": [],
   "source": [
    "df_vandalism = df_sf[df_sf.category.str.contains(\"VANDALISM\")]\n",
    "#df_larceny_auto = df_larceny[df_larceny.descript.str.contains(\"AUTO\")]\n",
    "#df_larceny_petty = df_larceny[df_larceny.descript.str.contains(\"AUTO\")]\n",
    "#df_larceny_petty.to_json(path_or_buf=\"petty_larceny.json\",orient='records')\n",
    "df_vandalism.to_json(path_or_buf=\"vandalism.json\",orient='records')"
   ]
  }
 ],
 "metadata": {
  "kernelspec": {
   "display_name": "Python 2",
   "language": "python",
   "name": "python2"
  },
  "language_info": {
   "codemirror_mode": {
    "name": "ipython",
    "version": 2
   },
   "file_extension": ".py",
   "mimetype": "text/x-python",
   "name": "python",
   "nbconvert_exporter": "python",
   "pygments_lexer": "ipython2",
   "version": "2.7.10"
  }
 },
 "nbformat": 4,
 "nbformat_minor": 0
}
