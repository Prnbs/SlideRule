{
 "cells": [
  {
   "cell_type": "code",
   "execution_count": null,
   "metadata": {
    "collapsed": true
   },
   "outputs": [],
   "source": [
    "# XML example and exercise\n",
    "****\n",
    "+ study examples of accessing nodes in XML tree structure  \n",
    "+ work on exercise to be completed and submitted\n",
    "****\n",
    "+ reference: https://docs.python.org/2.7/library/xml.etree.elementtree.html\n",
    "+ data source: http://www.dbis.informatik.uni-goettingen.de/Mondial\n",
    "****"
   ]
  },
  {
   "cell_type": "code",
   "execution_count": 2,
   "metadata": {
    "collapsed": true
   },
   "outputs": [],
   "source": [
    "from xml.etree import ElementTree as ET"
   ]
  },
  {
   "cell_type": "markdown",
   "metadata": {},
   "source": [
    "## XML example\n",
    "\n",
    "+ for details about tree traversal and iterators, see https://docs.python.org/2.7/library/xml.etree.elementtree.html"
   ]
  },
  {
   "cell_type": "code",
   "execution_count": 3,
   "metadata": {
    "collapsed": true
   },
   "outputs": [],
   "source": [
    "document_tree = ET.parse( './data/mondial_database_less.xml' )"
   ]
  },
  {
   "cell_type": "code",
   "execution_count": 4,
   "metadata": {
    "collapsed": false
   },
   "outputs": [
    {
     "name": "stdout",
     "output_type": "stream",
     "text": [
      "Albania\n",
      "Greece\n",
      "Macedonia\n",
      "Serbia\n",
      "Montenegro\n",
      "Kosovo\n",
      "Andorra\n"
     ]
    }
   ],
   "source": [
    "# print names of all countries\n",
    "for child in document_tree.getroot():\n",
    "    print child.find('name').text"
   ]
  },
  {
   "cell_type": "code",
   "execution_count": 5,
   "metadata": {
    "collapsed": false
   },
   "outputs": [
    {
     "name": "stdout",
     "output_type": "stream",
     "text": [
      "* Albania: Tirana, Shkodër, Durrës, Vlorë, Elbasan, Korçë\n",
      "* Greece: Komotini, Kavala, Athina, Peiraias, Peristeri, Acharnes, Patra, Kozani, Kerkyra, Ioannina, Thessaloniki, Iraklio, Chania, Ermoupoli, Rhodes, Tripoli, Lamia, Chalkida, Larissa, Volos, Mytilini, Karyes\n",
      "* Macedonia: Skopje, Kumanovo\n",
      "* Serbia: Beograd, Novi Sad, Niš\n",
      "* Montenegro: Podgorica\n",
      "* Kosovo: Prishtine\n",
      "* Andorra: Andorra la Vella\n"
     ]
    }
   ],
   "source": [
    "# print names of all countries and their cities\n",
    "for element in document_tree.iterfind('country'):\n",
    "    print '* ' + element.find('name').text + ':',\n",
    "    capitals_string = ''\n",
    "    for subelement in element.getiterator('city'):\n",
    "        capitals_string += subelement.find('name').text + ', '\n",
    "    print capitals_string[:-2]"
   ]
  },
  {
   "cell_type": "markdown",
   "metadata": {},
   "source": [
    "****\n",
    "## XML exercise\n",
    "\n",
    "Using data in 'data/mondial_database.xml', the examples above, and refering to https://docs.python.org/2.7/library/xml.etree.elementtree.html, find\n",
    "\n",
    "1. 10 countries with the lowest infant mortality rates\n",
    "2. 10 cities with the largest population\n",
    "3. 10 ethnic groups with the largest overall populations (sum of best/latest estimates over all countries)\n",
    "4. name and country of a) longest river, b) largest lake and c) airport at highest elevation"
   ]
  },
  {
   "cell_type": "code",
   "execution_count": 47,
   "metadata": {
    "collapsed": false
   },
   "outputs": [],
   "source": [
    "# 1. 10 countries with the lowest infant mortality rates"
   ]
  },
  {
   "cell_type": "code",
   "execution_count": 86,
   "metadata": {
    "collapsed": false
   },
   "outputs": [
    {
     "data": {
      "text/html": [
       "<div>\n",
       "<table border=\"1\" class=\"dataframe\">\n",
       "  <thead>\n",
       "    <tr style=\"text-align: right;\">\n",
       "      <th></th>\n",
       "      <th>0</th>\n",
       "      <th>1</th>\n",
       "    </tr>\n",
       "  </thead>\n",
       "  <tbody>\n",
       "    <tr>\n",
       "      <th>34</th>\n",
       "      <td>Monaco</td>\n",
       "      <td>1.81</td>\n",
       "    </tr>\n",
       "    <tr>\n",
       "      <th>101</th>\n",
       "      <td>Romania</td>\n",
       "      <td>10.16</td>\n",
       "    </tr>\n",
       "    <tr>\n",
       "      <th>226</th>\n",
       "      <td>Fiji</td>\n",
       "      <td>10.2</td>\n",
       "    </tr>\n",
       "    <tr>\n",
       "      <th>128</th>\n",
       "      <td>Brunei</td>\n",
       "      <td>10.48</td>\n",
       "    </tr>\n",
       "    <tr>\n",
       "      <th>157</th>\n",
       "      <td>Grenada</td>\n",
       "      <td>10.5</td>\n",
       "    </tr>\n",
       "    <tr>\n",
       "      <th>100</th>\n",
       "      <td>Mauritius</td>\n",
       "      <td>10.59</td>\n",
       "    </tr>\n",
       "    <tr>\n",
       "      <th>116</th>\n",
       "      <td>Panama</td>\n",
       "      <td>10.7</td>\n",
       "    </tr>\n",
       "    <tr>\n",
       "      <th>70</th>\n",
       "      <td>Seychelles</td>\n",
       "      <td>10.77</td>\n",
       "    </tr>\n",
       "    <tr>\n",
       "      <th>43</th>\n",
       "      <td>United Arab Emirates</td>\n",
       "      <td>10.92</td>\n",
       "    </tr>\n",
       "    <tr>\n",
       "      <th>175</th>\n",
       "      <td>Barbados</td>\n",
       "      <td>10.93</td>\n",
       "    </tr>\n",
       "  </tbody>\n",
       "</table>\n",
       "</div>"
      ],
      "text/plain": [
       "                        0      1\n",
       "34                 Monaco   1.81\n",
       "101               Romania  10.16\n",
       "226                  Fiji   10.2\n",
       "128                Brunei  10.48\n",
       "157               Grenada   10.5\n",
       "100             Mauritius  10.59\n",
       "116                Panama   10.7\n",
       "70             Seychelles  10.77\n",
       "43   United Arab Emirates  10.92\n",
       "175              Barbados  10.93"
      ]
     },
     "execution_count": 86,
     "metadata": {},
     "output_type": "execute_result"
    }
   ],
   "source": [
    "import pandas as pd\n",
    "document_tree = ET.parse( './data/mondial_database.xml' )\n",
    "d_mortality = {}\n",
    "l_mortality = []\n",
    "for element in document_tree.iterfind('country'):\n",
    "    if element.find('infant_mortality') is not None:\n",
    "        d_mortality[element.find('name').text] = element.find('infant_mortality').text\n",
    "        l_mortality.append(d_mortality)\n",
    "\n",
    "df_mortality = pd.DataFrame.from_dict(d_mortality.items())\n",
    "df_mortality.sort(1).head(10)"
   ]
  },
  {
   "cell_type": "code",
   "execution_count": 50,
   "metadata": {
    "collapsed": true
   },
   "outputs": [],
   "source": [
    "# 2. 10 cities with the largest population"
   ]
  },
  {
   "cell_type": "code",
   "execution_count": 130,
   "metadata": {
    "collapsed": false
   },
   "outputs": [
    {
     "data": {
      "text/html": [
       "<div>\n",
       "<table border=\"1\" class=\"dataframe\">\n",
       "  <thead>\n",
       "    <tr style=\"text-align: right;\">\n",
       "      <th></th>\n",
       "      <th>country</th>\n",
       "      <th>population</th>\n",
       "      <th>year</th>\n",
       "    </tr>\n",
       "    <tr>\n",
       "      <th>city</th>\n",
       "      <th></th>\n",
       "      <th></th>\n",
       "      <th></th>\n",
       "    </tr>\n",
       "  </thead>\n",
       "  <tbody>\n",
       "    <tr>\n",
       "      <th>Shanghai</th>\n",
       "      <td>China</td>\n",
       "      <td>22315474</td>\n",
       "      <td>2010</td>\n",
       "    </tr>\n",
       "    <tr>\n",
       "      <th>Istanbul</th>\n",
       "      <td>Turkey</td>\n",
       "      <td>13710512</td>\n",
       "      <td>2012</td>\n",
       "    </tr>\n",
       "    <tr>\n",
       "      <th>Delhi</th>\n",
       "      <td>India</td>\n",
       "      <td>12877470</td>\n",
       "      <td>2011</td>\n",
       "    </tr>\n",
       "    <tr>\n",
       "      <th>Mumbai</th>\n",
       "      <td>India</td>\n",
       "      <td>12442373</td>\n",
       "      <td>2011</td>\n",
       "    </tr>\n",
       "    <tr>\n",
       "      <th>Moskva</th>\n",
       "      <td>Russia</td>\n",
       "      <td>11979529</td>\n",
       "      <td>2013</td>\n",
       "    </tr>\n",
       "    <tr>\n",
       "      <th>Beijing</th>\n",
       "      <td>China</td>\n",
       "      <td>11716620</td>\n",
       "      <td>2010</td>\n",
       "    </tr>\n",
       "    <tr>\n",
       "      <th>São Paulo</th>\n",
       "      <td>Brazil</td>\n",
       "      <td>11152344</td>\n",
       "      <td>2010</td>\n",
       "    </tr>\n",
       "    <tr>\n",
       "      <th>Tianjin</th>\n",
       "      <td>China</td>\n",
       "      <td>11090314</td>\n",
       "      <td>2010</td>\n",
       "    </tr>\n",
       "    <tr>\n",
       "      <th>Guangzhou</th>\n",
       "      <td>China</td>\n",
       "      <td>11071424</td>\n",
       "      <td>2010</td>\n",
       "    </tr>\n",
       "    <tr>\n",
       "      <th>Shenzhen</th>\n",
       "      <td>China</td>\n",
       "      <td>10358381</td>\n",
       "      <td>2010</td>\n",
       "    </tr>\n",
       "  </tbody>\n",
       "</table>\n",
       "</div>"
      ],
      "text/plain": [
       "          country  population  year\n",
       "city                               \n",
       "Shanghai    China    22315474  2010\n",
       "Istanbul   Turkey    13710512  2012\n",
       "Delhi       India    12877470  2011\n",
       "Mumbai      India    12442373  2011\n",
       "Moskva     Russia    11979529  2013\n",
       "Beijing     China    11716620  2010\n",
       "São Paulo  Brazil    11152344  2010\n",
       "Tianjin     China    11090314  2010\n",
       "Guangzhou   China    11071424  2010\n",
       "Shenzhen    China    10358381  2010"
      ]
     },
     "execution_count": 130,
     "metadata": {},
     "output_type": "execute_result"
    }
   ],
   "source": [
    "document_tree = ET.parse( './data/mondial_database.xml' )\n",
    "\n",
    "l_population = []\n",
    "\n",
    "for element in document_tree.iterfind('country'):\n",
    "    for subelement in element.getiterator('city'):\n",
    "        for popu in subelement.iter('population'):\n",
    "            d_popultion = {}\n",
    "            d_popultion['country'] = element.find('name').text\n",
    "            d_popultion['city'] = subelement.find('name').text\n",
    "            d_popultion['year'] = int(popu.attrib['year'])\n",
    "            d_popultion['population'] = int(popu.text)\n",
    "            l_population.append(d_popultion)\n",
    "                    \n",
    "df_population = pd.DataFrame(l_population)\n",
    "df_population.groupby(['city']).max().sort('population', ascending=False).head(10)"
   ]
  },
  {
   "cell_type": "code",
   "execution_count": 118,
   "metadata": {
    "collapsed": true
   },
   "outputs": [],
   "source": [
    "# 3. 10 ethnic groups with the largest overall populations (sum of best/latest estimates over all countries)"
   ]
  },
  {
   "cell_type": "code",
   "execution_count": 204,
   "metadata": {
    "collapsed": true
   },
   "outputs": [
    {
     "data": {
      "text/html": [
       "<div>\n",
       "<table border=\"1\" class=\"dataframe\">\n",
       "  <thead>\n",
       "    <tr style=\"text-align: right;\">\n",
       "      <th></th>\n",
       "      <th>ethnic_population</th>\n",
       "    </tr>\n",
       "    <tr>\n",
       "      <th>ethnic_name</th>\n",
       "      <th></th>\n",
       "    </tr>\n",
       "  </thead>\n",
       "  <tbody>\n",
       "    <tr>\n",
       "      <th>Han Chinese</th>\n",
       "      <td>1.245059e+11</td>\n",
       "    </tr>\n",
       "    <tr>\n",
       "      <th>African</th>\n",
       "      <td>2.488789e+10</td>\n",
       "    </tr>\n",
       "    <tr>\n",
       "      <th>Bengali</th>\n",
       "      <td>1.467769e+10</td>\n",
       "    </tr>\n",
       "    <tr>\n",
       "      <th>Japanese</th>\n",
       "      <td>1.272890e+10</td>\n",
       "    </tr>\n",
       "    <tr>\n",
       "      <th>Malay</th>\n",
       "      <td>1.081002e+10</td>\n",
       "    </tr>\n",
       "    <tr>\n",
       "      <th>Eastern Hamitic</th>\n",
       "      <td>8.283038e+09</td>\n",
       "    </tr>\n",
       "    <tr>\n",
       "      <th>Arab-Berber</th>\n",
       "      <td>8.006080e+09</td>\n",
       "    </tr>\n",
       "    <tr>\n",
       "      <th>European</th>\n",
       "      <td>7.357568e+09</td>\n",
       "    </tr>\n",
       "    <tr>\n",
       "      <th>Thai</th>\n",
       "      <td>4.948624e+09</td>\n",
       "    </tr>\n",
       "    <tr>\n",
       "      <th>Mediterranean Nordic</th>\n",
       "      <td>4.681592e+09</td>\n",
       "    </tr>\n",
       "  </tbody>\n",
       "</table>\n",
       "</div>"
      ],
      "text/plain": [
       "                      ethnic_population\n",
       "ethnic_name                            \n",
       "Han Chinese                1.245059e+11\n",
       "African                    2.488789e+10\n",
       "Bengali                    1.467769e+10\n",
       "Japanese                   1.272890e+10\n",
       "Malay                      1.081002e+10\n",
       "Eastern Hamitic            8.283038e+09\n",
       "Arab-Berber                8.006080e+09\n",
       "European                   7.357568e+09\n",
       "Thai                       4.948624e+09\n",
       "Mediterranean Nordic       4.681592e+09"
      ]
     },
     "execution_count": 204,
     "metadata": {},
     "output_type": "execute_result"
    }
   ],
   "source": [
    "document_tree = ET.parse( './data/mondial_database.xml' )\n",
    "\n",
    "l_population = []\n",
    "\n",
    "for element in document_tree.iterfind('country'):\n",
    "    l_ethnic_percent = []  \n",
    "    l_ethnic_name = [] \n",
    "    # get all the ethnic groups in this country and put them in two lists\n",
    "    for ethnic in element.iter('ethnicgroup'):\n",
    "        curr_percent = float(ethnic.attrib['percentage'])\n",
    "        l_ethnic_percent.append(curr_percent)\n",
    "        l_ethnic_name.append(ethnic.text)\n",
    "    \n",
    "    for popu in element.iterfind('population'):\n",
    "        d_popultion = {}\n",
    "        d_popultion['country'] = element.find('name').text\n",
    "        d_popultion['year'] = int(popu.attrib['year'])\n",
    "        #multiply the population into each of the ethnic group's percentage\n",
    "        for i in range(len(l_ethnic_percent)):\n",
    "            d_popultion['ethnic_population'] = float(popu.text) * l_ethnic_percent[i]\n",
    "            d_popultion['ethnic_name'] = l_ethnic_name[i]\n",
    "            d_popultion['ethnic_percent'] = l_ethnic_percent[i]\n",
    "        l_population.append(d_popultion)\n",
    "               \n",
    "df_population = pd.DataFrame(l_population)\n",
    "df_grouped = df_population.groupby(['country', 'ethnic_name'], as_index=False)['ethnic_population'].max()\n",
    "sum_ethinic = df_grouped.groupby('ethnic_name')['ethnic_population'].sum()\n",
    "df_sum = pd.DataFrame(sum_ethinic)\n",
    "df_sum.sort('ethnic_population',ascending=False).head(10)\n"
   ]
  },
  {
   "cell_type": "code",
   "execution_count": 205,
   "metadata": {
    "collapsed": true
   },
   "outputs": [],
   "source": [
    "# 4. name and country of a) longest river, b) largest lake and c) airport at highest elevation"
   ]
  },
  {
   "cell_type": "code",
   "execution_count": 268,
   "metadata": {
    "collapsed": false
   },
   "outputs": [
    {
     "name": "stdout",
     "output_type": "stream",
     "text": [
      "13821    Longest river Jangtse in China\n",
      "dtype: object\n",
      "6197    Largest lake Caspian Sea in Russia\n",
      "dtype: object\n",
      "36554    Highest airport El Alto Intl in Bolivia\n",
      "dtype: object\n"
     ]
    }
   ],
   "source": [
    "document_tree = ET.parse( './data/mondial_database.xml' )\n",
    "\n",
    "l_country = []\n",
    "# first create a df for country and country code\n",
    "for element in document_tree.iterfind('country'):\n",
    "    d_country = {}\n",
    "    d_country['country_name'] = element.find('name').text\n",
    "    d_country['code'] = element.attrib['car_code']\n",
    "    l_country.append(d_country)\n",
    "        \n",
    "df_country = pd.DataFrame(l_country)\n",
    "        \n",
    "# now get lake info   \n",
    "l_lake = []\n",
    "for element in document_tree.iterfind('lake'):\n",
    "    d_lake = {}\n",
    "    d_lake['lake_name'] = element.find('name').text\n",
    "    if element.find('located') is not None:\n",
    "        d_lake['located'] = element.find('located').attrib['country']\n",
    "    if element.find('area') is not None:\n",
    "        d_lake['area'] = float(element.find('area').text)\n",
    "    l_lake.append(d_lake)\n",
    "    \n",
    "df_lake = pd.DataFrame(l_lake)\n",
    "\n",
    "# now get river info\n",
    "l_river = []\n",
    "for element in document_tree.iterfind('river'):\n",
    "    d_river = {}\n",
    "    d_river['located'] = element.attrib['country']\n",
    "    d_river['river_name'] = element.find('name').text\n",
    "    if element.find('length') is not None:\n",
    "        d_river['length'] = float(element.find('length').text)\n",
    "    l_river.append(d_river)\n",
    "    \n",
    "df_river = pd.DataFrame(l_river)\n",
    "\n",
    "#now get airport information\n",
    "l_airport = []\n",
    "for element in document_tree.iterfind('airport'):\n",
    "    d_airport = {}\n",
    "    d_airport['airport_name'] = element.find('name').text\n",
    "    if element.find('elevation') is not None:\n",
    "        if element.find('elevation').text is not None:\n",
    "            d_airport['elevation'] = int(element.find('elevation').text)\n",
    "    d_airport['located'] = element.attrib['country']\n",
    "    l_airport.append(d_airport)\n",
    "    \n",
    "df_airport = pd.DataFrame(l_airport)\n",
    "\n",
    "df_1 = df_country.merge(df_river, left_on='code', right_on='located', how='inner')\n",
    "\n",
    "df_2 = df_1.merge(df_lake, left_on='code', right_on='located', how='inner')\n",
    "\n",
    "df_all = df_2.merge(df_airport, left_on='code', right_on='located', how='inner')\n",
    "\n",
    "longest_river = df_all.sort('length', ascending=False).head(1)\n",
    "\n",
    "largest_lake = df_all.sort('area', ascending=False).head(1)\n",
    "\n",
    "highest_airport = df_all.sort('elevation', ascending=False).head(1)\n",
    "\n",
    "print \"Longest river \" + longest_river.river_name + \" in \" + longest_river.country_name\n",
    "print \"Largest lake \" + largest_lake.lake_name + \" in \" + largest_lake.country_name\n",
    "print \"Highest airport \" + highest_airport.airport_name + \" in \" + highest_airport.country_name\n"
   ]
  }
 ],
 "metadata": {
  "kernelspec": {
   "display_name": "Python 2",
   "language": "python",
   "name": "python2"
  },
  "language_info": {
   "codemirror_mode": {
    "name": "ipython",
    "version": 2
   },
   "file_extension": ".py",
   "mimetype": "text/x-python",
   "name": "python",
   "nbconvert_exporter": "python",
   "pygments_lexer": "ipython2",
   "version": "2.7.10"
  }
 },
 "nbformat": 4,
 "nbformat_minor": 0
}
