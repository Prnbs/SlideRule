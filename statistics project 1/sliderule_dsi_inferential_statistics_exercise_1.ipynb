{
 "cells": [
  {
   "cell_type": "markdown",
   "metadata": {},
   "source": [
    "## What is the true normal human body temperature? \n",
    "\n",
    "#### Background\n",
    "\n",
    "The mean normal body temperature was held to be 37$^{\\circ}$C or 98.6$^{\\circ}$F for more than 120 years since it was first conceptualized and reported by Carl Wunderlich in a famous 1868 book. In 1992, this value was revised to 36.8$^{\\circ}$C or 98.2$^{\\circ}$F. \n",
    "\n",
    "#### Exercise\n",
    "In this exercise, you will analyze a dataset of human body temperatures and employ the concepts of hypothesis testing, confidence intervals, and statistical significance.\n",
    "\n",
    "Answer the following questions **in this notebook below and submit to your Github account**. \n",
    "\n",
    "1.  Is the distribution of body temperatures normal? \n",
    "    - Remember that this is a condition for the CLT, and hence the statistical tests we are using, to apply. \n",
    "2.  Is the true population mean really 98.6 degrees F?\n",
    "    - Bring out the one sample hypothesis test! In this situation, is it approriate to apply a z-test or a t-test? How will the result be different?\n",
    "3.  At what temperature should we consider someone's temperature to be \"abnormal\"?\n",
    "    - Start by computing the margin of error and confidence interval.\n",
    "4.  Is there a significant difference between males and females in normal temperature?\n",
    "    - Set up and solve for a two sample hypothesis testing.\n",
    "\n",
    "You can include written notes in notebook cells using Markdown: \n",
    "   - In the control panel at the top, choose Cell > Cell Type > Markdown\n",
    "   - Markdown syntax: http://nestacms.com/docs/creating-content/markdown-cheat-sheet\n",
    "\n",
    "#### Resources\n",
    "\n",
    "+ Information and data sources: http://www.amstat.org/publications/jse/datasets/normtemp.txt, http://www.amstat.org/publications/jse/jse_data_archive.htm\n",
    "+ Markdown syntax: http://nestacms.com/docs/creating-content/markdown-cheat-sheet\n",
    "\n",
    "****"
   ]
  },
  {
   "cell_type": "code",
   "execution_count": 2,
   "metadata": {
    "collapsed": true
   },
   "outputs": [],
   "source": [
    "import pandas as pd\n",
    "import math"
   ]
  },
  {
   "cell_type": "code",
   "execution_count": 3,
   "metadata": {
    "collapsed": false
   },
   "outputs": [],
   "source": [
    "df = pd.read_csv('data/human_body_temperature.csv')\n"
   ]
  },
  {
   "cell_type": "markdown",
   "metadata": {
    "collapsed": true
   },
   "source": [
    "1. Is the distribution of body temperatures normal? \n",
    "    \n",
    "    The condition required to satisfy the CLT are:\n",
    "        a) Independence - Since body temperature of one person does not depend on body temperature of another person, it is reasonable to assume that they are independent\n",
    "        b) Sample size - The size of the data (n = 130) is obviously less that 10% of the population and greater than the required thumb rule of 30.\n",
    "        \n",
    "2. Is the true population mean really 98.6 degrees F?\n",
    "   \n",
    "   Since we assume the CLT hold that means the sampling distribution will be centered at the population mean. If we assume that the population mean is indeed 98.6 then let's see where the null hypotheis gets us.\n",
    "   \n",
    "   The null hypothesis is that the population mean is 98.6\n",
    "   \n",
    "   The alternative hypotheis is that mean tempertaure is not equal to 98.6.\n",
    "   \n",
    "   To prove or disprove the null hypothesis let's first find out the sample mean:"
   ]
  },
  {
   "cell_type": "code",
   "execution_count": 9,
   "metadata": {
    "collapsed": false
   },
   "outputs": [
    {
     "data": {
      "text/plain": [
       "98.24923076923078"
      ]
     },
     "execution_count": 9,
     "metadata": {},
     "output_type": "execute_result"
    }
   ],
   "source": [
    "mean = df['temperature'].mean()\n",
    "mean"
   ]
  },
  {
   "cell_type": "code",
   "execution_count": 10,
   "metadata": {
    "collapsed": false
   },
   "outputs": [
    {
     "data": {
      "text/plain": [
       "0.7331831580389454"
      ]
     },
     "execution_count": 10,
     "metadata": {},
     "output_type": "execute_result"
    }
   ],
   "source": [
    "sd = df['temperature'].std()\n",
    "sd"
   ]
  },
  {
   "cell_type": "markdown",
   "metadata": {},
   "source": [
    "We don't know the standard deviation of the population so we'll have to make do with the standard deviation of the sample.\n",
    "Let's calculate the z value for this sample whose mean is 98.24\n"
   ]
  },
  {
   "cell_type": "code",
   "execution_count": 14,
   "metadata": {
    "collapsed": false
   },
   "outputs": [
    {
     "data": {
      "text/plain": [
       "-0.4784196512470687"
      ]
     },
     "execution_count": 14,
     "metadata": {},
     "output_type": "execute_result"
    }
   ],
   "source": [
    "z = ( mean - 98.6) / sd\n",
    "z"
   ]
  },
  {
   "cell_type": "markdown",
   "metadata": {},
   "source": [
    "Looking from the tables the probablity of seeing this value is 0.3156\n",
    "This is above the threshold value of 5%. So we can conclude that the null hypotheis is true"
   ]
  },
  {
   "cell_type": "markdown",
   "metadata": {},
   "source": [
    "3)  At what temperature should we consider someone's temperature to be \"abnormal\"?\n",
    "   According to the CLT all the data must lie within 3 standard deviations. Since the mean is at 98.6 a difference of 3 standard deviations means the data must be greater than or less than:"
   ]
  },
  {
   "cell_type": "code",
   "execution_count": 15,
   "metadata": {
    "collapsed": false
   },
   "outputs": [
    {
     "name": "stdout",
     "output_type": "stream",
     "text": [
      "100.491612548\n",
      "96.7083874523\n"
     ]
    }
   ],
   "source": [
    "temp_high = 98.6 + 2.58 * sd\n",
    "temp_low = 98.6 - 2.58 * sd\n",
    "print temp_high\n",
    "print temp_low\n"
   ]
  },
  {
   "cell_type": "markdown",
   "metadata": {},
   "source": [
    "4) Is there a significant difference between males and females in normal temperature?\n"
   ]
  },
  {
   "cell_type": "code",
   "execution_count": 19,
   "metadata": {
    "collapsed": false
   },
   "outputs": [
    {
     "name": "stdout",
     "output_type": "stream",
     "text": [
      "0.698755762327\n",
      "0.743487752731\n"
     ]
    }
   ],
   "source": [
    "df_male = df[df.gender.str.contains('M')]\n",
    "df_female = df[df.gender.str.contains('F')]\n",
    "#calculate the two means\n",
    "mean_male = df_male['temperature'].mean()\n",
    "mean_female = df_female['temperature'].mean()\n",
    "# calculate the two sd\n",
    "std_male = df_male['temperature'].std()\n",
    "std_female = df_female['temperature'].std()\n",
    "#calculate the two z scores\n",
    "z_male = (mean_male - 98.6) / std_male\n",
    "z_female = (mean_female - 98.6) / std_female"
   ]
  },
  {
   "cell_type": "markdown",
   "metadata": {},
   "source": [
    "To calculate significance, we have the z values for males and females. Lets calculate the probablity of seeing these results:"
   ]
  },
  {
   "cell_type": "code",
   "execution_count": 24,
   "metadata": {
    "collapsed": false
   },
   "outputs": [
    {
     "name": "stdout",
     "output_type": "stream",
     "text": [
      "0.239176989955\n",
      "0.390782783823\n"
     ]
    }
   ],
   "source": [
    "import scipy\n",
    "p_value_male = scipy.stats.norm.sf(abs(z_male))\n",
    "p_value_female = scipy.stats.norm.sf(abs(z_female))\n",
    "print p_value_male\n",
    "print p_value_female"
   ]
  },
  {
   "cell_type": "markdown",
   "metadata": {},
   "source": [
    "Both of these are above the significance value of 5% and hence statistically significant"
   ]
  }
 ],
 "metadata": {
  "kernelspec": {
   "display_name": "Python 2",
   "language": "python",
   "name": "python2"
  },
  "language_info": {
   "codemirror_mode": {
    "name": "ipython",
    "version": 2
   },
   "file_extension": ".py",
   "mimetype": "text/x-python",
   "name": "python",
   "nbconvert_exporter": "python",
   "pygments_lexer": "ipython2",
   "version": "2.7.10"
  }
 },
 "nbformat": 4,
 "nbformat_minor": 0
}
