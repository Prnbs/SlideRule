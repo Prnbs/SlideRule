{
 "cells": [
  {
   "cell_type": "code",
   "execution_count": 83,
   "metadata": {
    "collapsed": false
   },
   "outputs": [],
   "source": [
    "import pandas as pd\n",
    "import numpy as np"
   ]
  },
  {
   "cell_type": "code",
   "execution_count": 84,
   "metadata": {
    "collapsed": true
   },
   "outputs": [],
   "source": [
    "auto_mpg_df = pd.read_csv('autompg.csv')\n",
    "# split the data frame based on country of origin\n",
    "auto_mpg_us_df = auto_mpg_df[auto_mpg_df['origin'] == 1]\n",
    "auto_mpg_japan_df = auto_mpg_df[auto_mpg_df['origin'] == 3]\n",
    "auto_mpg_germany_df = auto_mpg_df[auto_mpg_df['origin'] == 2]"
   ]
  },
  {
   "cell_type": "code",
   "execution_count": 85,
   "metadata": {
    "collapsed": false
   },
   "outputs": [],
   "source": [
    "# split based on number of cylinders\n",
    "# for US cars\n",
    "auto_mpg_us_4_cylinders_df = auto_mpg_us_df[auto_mpg_us_df['cylinders'] == 4]\n",
    "auto_mpg_us_6_cylinders_df = auto_mpg_us_df[auto_mpg_us_df['cylinders'] == 6]\n",
    "# for Japanese cars\n",
    "auto_mpg_japan_4_cylinders_df = auto_mpg_japan_df[auto_mpg_japan_df['cylinders'] == 4]\n",
    "auto_mpg_japan_6_cylinders_df = auto_mpg_japan_df[auto_mpg_japan_df['cylinders'] == 6]\n",
    "# for German cars\n",
    "auto_mpg_germany_4_cylinders_df = auto_mpg_germany_df[auto_mpg_germany_df['cylinders'] == 4]\n",
    "auto_mpg_germany_6_cylinders_df = auto_mpg_germany_df[auto_mpg_germany_df['cylinders'] == 6]"
   ]
  },
  {
   "cell_type": "markdown",
   "metadata": {},
   "source": [
    "We know that Japanese cars are more fuel efficient than US and German cars now. However this data is for cars between the years of 1970 and 1982.\n",
    "Let's examine if the data shows any statistical significance.\n",
    "\n",
    "##Test Case I\n",
    "###For 4 cylinder cars \n",
    "####Null hypothesis:\n",
    "Mean_mpg_Japanese - Mean_mpg_German > 0\n",
    "\n",
    "and \n",
    "\n",
    "Mean_mpg_German - Mean_mpg_US > 0\n",
    "####Alternative hypothesis\n",
    "Mean_mpg_Japanese - Mean_mpg_German <= 0\n",
    "\n",
    "and\n",
    "\n",
    "Mean_mpg_German - Mean_mpg_US <= 0"
   ]
  },
  {
   "cell_type": "code",
   "execution_count": 86,
   "metadata": {
    "collapsed": false
   },
   "outputs": [
    {
     "name": "stdout",
     "output_type": "stream",
     "text": [
      "31.5956521739 5.43578650575\n"
     ]
    }
   ],
   "source": [
    "mean_mpg_Japanese_4_cyl = auto_mpg_japan_4_cylinders_df['mpg'].mean()\n",
    "std_mpg_Japanese_4_cyl = auto_mpg_japan_4_cylinders_df['mpg'].std()\n",
    "print mean_mpg_Japanese_4_cyl, std_mpg_Japanese_4_cyl"
   ]
  },
  {
   "cell_type": "code",
   "execution_count": 87,
   "metadata": {
    "collapsed": false
   },
   "outputs": [
    {
     "name": "stdout",
     "output_type": "stream",
     "text": [
      "28.106557377 6.29107486451\n"
     ]
    }
   ],
   "source": [
    "mean_mpg_German_4_cyl = auto_mpg_germany_4_cylinders_df['mpg'].mean()\n",
    "std_mpg_German_4_cyl = auto_mpg_germany_4_cylinders_df['mpg'].std()\n",
    "print mean_mpg_German_4_cyl, std_mpg_German_4_cyl"
   ]
  },
  {
   "cell_type": "code",
   "execution_count": 88,
   "metadata": {
    "collapsed": false
   },
   "outputs": [
    {
     "name": "stdout",
     "output_type": "stream",
     "text": [
      "28.0130434783 4.56659588249\n"
     ]
    }
   ],
   "source": [
    "mean_mpg_US_4_cyl = auto_mpg_us_4_cylinders_df['mpg'].mean()\n",
    "std_mpg_US_4_cyl = auto_mpg_us_4_cylinders_df['mpg'].std()\n",
    "print mean_mpg_US_4_cyl, std_mpg_US_4_cyl"
   ]
  },
  {
   "cell_type": "markdown",
   "metadata": {},
   "source": [
    "Parameter of interest = mean1 - mean2\n",
    "\n",
    "So SE = sqrt(SE1 x SE1/N1 + SE2 x SE2/N2)"
   ]
  },
  {
   "cell_type": "code",
   "execution_count": 89,
   "metadata": {
    "collapsed": false
   },
   "outputs": [
    {
     "data": {
      "text/plain": [
       "1.0378063948823995"
      ]
     },
     "execution_count": 89,
     "metadata": {},
     "output_type": "execute_result"
    }
   ],
   "source": [
    "se_japan_german = np.sqrt(std_mpg_Japanese_4_cyl**2/len(auto_mpg_japan_4_cylinders_df) + std_mpg_German_4_cyl**2/len(auto_mpg_germany_4_cylinders_df))\n",
    "se_japan_german"
   ]
  },
  {
   "cell_type": "markdown",
   "metadata": {},
   "source": [
    "So for a 95% confidence interval of the mean"
   ]
  },
  {
   "cell_type": "code",
   "execution_count": 90,
   "metadata": {
    "collapsed": false
   },
   "outputs": [
    {
     "name": "stdout",
     "output_type": "stream",
     "text": [
      "Confidence interval is between 5.52319533083 1.45499426289\n"
     ]
    }
   ],
   "source": [
    "diff_japan_german_upper = (mean_mpg_Japanese_4_cyl - mean_mpg_German_4_cyl) + 1.96 * se_japan_german\n",
    "diff_japan_german_lower = (mean_mpg_Japanese_4_cyl - mean_mpg_German_4_cyl) - 1.96 * se_japan_german\n",
    "print \"Confidence interval is between\", diff_japan_german_upper, diff_japan_german_lower"
   ]
  },
  {
   "cell_type": "markdown",
   "metadata": {},
   "source": [
    "This means we are 95% confident that the difference in mean mpg between Japanese and German cars lies between 5.52 and 1.45\n",
    "\n",
    "Lets also calculate the p value"
   ]
  },
  {
   "cell_type": "code",
   "execution_count": 91,
   "metadata": {
    "collapsed": false
   },
   "outputs": [
    {
     "data": {
      "text/plain": [
       "3.3619900725888554"
      ]
     },
     "execution_count": 91,
     "metadata": {},
     "output_type": "execute_result"
    }
   ],
   "source": [
    "z_japan_germany = ((mean_mpg_Japanese_4_cyl - mean_mpg_German_4_cyl) - 0)/se_japan_german\n",
    "z_japan_germany"
   ]
  },
  {
   "cell_type": "markdown",
   "metadata": {},
   "source": [
    "We are interested in the right side of the normal curve which is found from the tables to be 0.9996\n",
    "\n",
    "###This means we are 99.96% confident that our Null hypothesis is correct for Japanese and German cars\n",
    "\n",
    "Now lets compare 4 cylinder German cars and US cars"
   ]
  },
  {
   "cell_type": "code",
   "execution_count": 92,
   "metadata": {
    "collapsed": false
   },
   "outputs": [
    {
     "data": {
      "text/plain": [
       "0.97521405181200982"
      ]
     },
     "execution_count": 92,
     "metadata": {},
     "output_type": "execute_result"
    }
   ],
   "source": [
    "se_german_us = np.sqrt(std_mpg_German_4_cyl**2/len(auto_mpg_germany_4_cylinders_df) + std_mpg_US_4_cyl**2/len(auto_mpg_us_4_cylinders_df))\n",
    "se_german_us"
   ]
  },
  {
   "cell_type": "markdown",
   "metadata": {},
   "source": [
    "So for a 95% confidence interval of the mean"
   ]
  },
  {
   "cell_type": "code",
   "execution_count": 93,
   "metadata": {
    "collapsed": false
   },
   "outputs": [
    {
     "name": "stdout",
     "output_type": "stream",
     "text": [
      "Confidence interval is between 2.00493344034 -1.81790564276\n"
     ]
    }
   ],
   "source": [
    "diff_us_german_upper = (mean_mpg_German_4_cyl - mean_mpg_US_4_cyl) + 1.96 * se_german_us\n",
    "diff_us_german_lower = (mean_mpg_German_4_cyl - mean_mpg_US_4_cyl) - 1.96 * se_german_us\n",
    "print \"Confidence interval is between\", diff_us_german_upper, diff_us_german_lower"
   ]
  },
  {
   "cell_type": "markdown",
   "metadata": {},
   "source": [
    "This is by no means a conclusive answer and we definitely need to look at the p value"
   ]
  },
  {
   "cell_type": "code",
   "execution_count": 94,
   "metadata": {
    "collapsed": false
   },
   "outputs": [
    {
     "data": {
      "text/plain": [
       "0.095890639203308647"
      ]
     },
     "execution_count": 94,
     "metadata": {},
     "output_type": "execute_result"
    }
   ],
   "source": [
    "z_us_germany = ((mean_mpg_German_4_cyl - mean_mpg_US_4_cyl) - 0)/se_german_us\n",
    "z_us_germany"
   ]
  },
  {
   "cell_type": "markdown",
   "metadata": {},
   "source": [
    "We are interested in the right side of the normal curve which is found from the tables to be 0.5359\n",
    "\n",
    "###This means we are 53.59% confident that our Null hypothesis is correct for US and German cars\n",
    "\n"
   ]
  },
  {
   "cell_type": "markdown",
   "metadata": {},
   "source": [
    "##Test Case II\n",
    "###For 6 cylinder cars \n",
    "####Null hypothesis:\n",
    "Mean_mpg_Japanese - Mean_mpg_German > 0\n",
    "\n",
    "and \n",
    "\n",
    "Mean_mpg_German - Mean_mpg_US > 0\n",
    "####Alternative hypothesis\n",
    "Mean_mpg_Japanese - Mean_mpg_German <= 0\n",
    "\n",
    "and\n",
    "\n",
    "Mean_mpg_German - Mean_mpg_US <= 0"
   ]
  },
  {
   "cell_type": "code",
   "execution_count": 95,
   "metadata": {
    "collapsed": false
   },
   "outputs": [
    {
     "name": "stdout",
     "output_type": "stream",
     "text": [
      "23.8833333333 4.95193564848\n"
     ]
    }
   ],
   "source": [
    "mean_mpg_Japanese_6_cyl = auto_mpg_japan_6_cylinders_df['mpg'].mean()\n",
    "std_mpg_Japanese_6_cyl = auto_mpg_japan_6_cylinders_df['mpg'].std()\n",
    "print mean_mpg_Japanese_6_cyl, std_mpg_Japanese_6_cyl"
   ]
  },
  {
   "cell_type": "code",
   "execution_count": 96,
   "metadata": {
    "collapsed": false
   },
   "outputs": [
    {
     "name": "stdout",
     "output_type": "stream",
     "text": [
      "20.1 7.07436687391\n"
     ]
    }
   ],
   "source": [
    "mean_mpg_German_6_cyl = auto_mpg_germany_6_cylinders_df['mpg'].mean()\n",
    "std_mpg_German_6_cyl = auto_mpg_germany_6_cylinders_df['mpg'].std()\n",
    "print mean_mpg_German_6_cyl, std_mpg_German_6_cyl"
   ]
  },
  {
   "cell_type": "markdown",
   "metadata": {},
   "source": [
    "Parameter of interest = mean1 - mean2\n",
    "\n",
    "So SE = sqrt(SE1 x SE1/N1 + SE2 x SE2/N2)"
   ]
  },
  {
   "cell_type": "code",
   "execution_count": 97,
   "metadata": {
    "collapsed": false
   },
   "outputs": [
    {
     "data": {
      "text/plain": [
       "4.0741393092420282"
      ]
     },
     "execution_count": 97,
     "metadata": {},
     "output_type": "execute_result"
    }
   ],
   "source": [
    "se_japan_german = np.sqrt(std_mpg_Japanese_6_cyl**2/len(auto_mpg_japan_6_cylinders_df) + std_mpg_German_6_cyl**2/len(auto_mpg_germany_6_cylinders_df))\n",
    "se_japan_german"
   ]
  },
  {
   "cell_type": "markdown",
   "metadata": {},
   "source": [
    "So for a 95% confidence interval of the mean"
   ]
  },
  {
   "cell_type": "code",
   "execution_count": 98,
   "metadata": {
    "collapsed": false
   },
   "outputs": [
    {
     "name": "stdout",
     "output_type": "stream",
     "text": [
      "Confidence interval is between 11.7686463794 -4.20197971278\n"
     ]
    }
   ],
   "source": [
    "diff_japan_german_upper = (mean_mpg_Japanese_6_cyl - mean_mpg_German_6_cyl) + 1.96 * se_japan_german\n",
    "diff_japan_german_lower = (mean_mpg_Japanese_6_cyl - mean_mpg_German_6_cyl) - 1.96 * se_japan_german\n",
    "print \"Confidence interval is between\", diff_japan_german_upper, diff_japan_german_lower"
   ]
  },
  {
   "cell_type": "markdown",
   "metadata": {},
   "source": [
    "This is by no means a conclusive answer and we definitely need to look at the p value"
   ]
  },
  {
   "cell_type": "code",
   "execution_count": 99,
   "metadata": {
    "collapsed": false
   },
   "outputs": [
    {
     "data": {
      "text/plain": [
       "0.92862149429966268"
      ]
     },
     "execution_count": 99,
     "metadata": {},
     "output_type": "execute_result"
    }
   ],
   "source": [
    "z_japan_germany = ((mean_mpg_Japanese_6_cyl - mean_mpg_German_6_cyl) - 0)/se_japan_german\n",
    "z_japan_germany"
   ]
  },
  {
   "cell_type": "markdown",
   "metadata": {},
   "source": [
    "From tables p value os 0.8212\n",
    "\n",
    "###So the Null hypothesis for Japanese and German still holds for 6 cylinders\n",
    "\n",
    "Now lets compare 6 cylinder engines of German and US make"
   ]
  },
  {
   "cell_type": "code",
   "execution_count": 100,
   "metadata": {
    "collapsed": false
   },
   "outputs": [
    {
     "name": "stdout",
     "output_type": "stream",
     "text": [
      "19.6452054795 3.39464615632\n"
     ]
    }
   ],
   "source": [
    "mean_mpg_US_6_cyl = auto_mpg_us_6_cylinders_df['mpg'].mean()\n",
    "std_mpg_US_6_cyl = auto_mpg_us_6_cylinders_df['mpg'].std()\n",
    "print mean_mpg_US_6_cyl, std_mpg_US_6_cyl"
   ]
  },
  {
   "cell_type": "code",
   "execution_count": 101,
   "metadata": {
    "collapsed": false
   },
   "outputs": [
    {
     "data": {
      "text/plain": [
       "3.559427553623939"
      ]
     },
     "execution_count": 101,
     "metadata": {},
     "output_type": "execute_result"
    }
   ],
   "source": [
    "se_german_us = np.sqrt(std_mpg_German_6_cyl**2/len(auto_mpg_germany_6_cylinders_df) + std_mpg_US_6_cyl**2/len(auto_mpg_us_6_cylinders_df))\n",
    "se_german_us"
   ]
  },
  {
   "cell_type": "markdown",
   "metadata": {},
   "source": [
    "So for a 95% confidence interval of the mean"
   ]
  },
  {
   "cell_type": "code",
   "execution_count": 102,
   "metadata": {
    "collapsed": false
   },
   "outputs": [
    {
     "name": "stdout",
     "output_type": "stream",
     "text": [
      "Confidence interval is between 7.43127252565 -6.52168348455\n"
     ]
    }
   ],
   "source": [
    "diff_us_german_upper = (mean_mpg_German_6_cyl - mean_mpg_US_6_cyl) + 1.96 * se_german_us\n",
    "diff_us_german_lower = (mean_mpg_German_6_cyl - mean_mpg_US_6_cyl) - 1.96 * se_german_us\n",
    "print \"Confidence interval is between\", diff_us_german_upper, diff_us_german_lower"
   ]
  },
  {
   "cell_type": "markdown",
   "metadata": {},
   "source": [
    "This is by no means a conclusive answer and we definitely need to look at the p value"
   ]
  },
  {
   "cell_type": "code",
   "execution_count": 103,
   "metadata": {
    "collapsed": false
   },
   "outputs": [
    {
     "data": {
      "text/plain": [
       "0.12777181546648197"
      ]
     },
     "execution_count": 103,
     "metadata": {},
     "output_type": "execute_result"
    }
   ],
   "source": [
    "z_us_germany = ((mean_mpg_German_6_cyl - mean_mpg_US_6_cyl) - 0)/se_german_us\n",
    "z_us_germany"
   ]
  },
  {
   "cell_type": "markdown",
   "metadata": {},
   "source": [
    "The right hand side of the curve yields a p value of 0.5478\n",
    "\n",
    "###So again the Null hypothesis holds for 6 cylinder engines of German and US make"
   ]
  },
  {
   "cell_type": "code",
   "execution_count": 105,
   "metadata": {
    "collapsed": false
   },
   "outputs": [
    {
     "data": {
      "text/html": [
       "<div>\n",
       "<table border=\"1\" class=\"dataframe\">\n",
       "  <thead>\n",
       "    <tr style=\"text-align: right;\">\n",
       "      <th></th>\n",
       "      <th>mpg</th>\n",
       "      <th>cylinders</th>\n",
       "      <th>displacement</th>\n",
       "      <th>horsepower</th>\n",
       "      <th>weight</th>\n",
       "      <th>acceleration</th>\n",
       "      <th>model_year</th>\n",
       "      <th>origin</th>\n",
       "      <th>car_name</th>\n",
       "    </tr>\n",
       "  </thead>\n",
       "  <tbody>\n",
       "    <tr>\n",
       "      <th>30</th>\n",
       "      <td>28.0</td>\n",
       "      <td>4</td>\n",
       "      <td>140.0</td>\n",
       "      <td>90</td>\n",
       "      <td>2264</td>\n",
       "      <td>15.5</td>\n",
       "      <td>71</td>\n",
       "      <td>1</td>\n",
       "      <td>chevrolet vega 2300</td>\n",
       "    </tr>\n",
       "    <tr>\n",
       "      <th>45</th>\n",
       "      <td>22.0</td>\n",
       "      <td>4</td>\n",
       "      <td>140.0</td>\n",
       "      <td>72</td>\n",
       "      <td>2408</td>\n",
       "      <td>19.0</td>\n",
       "      <td>71</td>\n",
       "      <td>1</td>\n",
       "      <td>chevrolet vega (sw)</td>\n",
       "    </tr>\n",
       "    <tr>\n",
       "      <th>48</th>\n",
       "      <td>23.0</td>\n",
       "      <td>4</td>\n",
       "      <td>122.0</td>\n",
       "      <td>86</td>\n",
       "      <td>2220</td>\n",
       "      <td>14.0</td>\n",
       "      <td>71</td>\n",
       "      <td>1</td>\n",
       "      <td>mercury capri 2000</td>\n",
       "    </tr>\n",
       "    <tr>\n",
       "      <th>55</th>\n",
       "      <td>26.0</td>\n",
       "      <td>4</td>\n",
       "      <td>91.0</td>\n",
       "      <td>70</td>\n",
       "      <td>1955</td>\n",
       "      <td>20.5</td>\n",
       "      <td>71</td>\n",
       "      <td>1</td>\n",
       "      <td>plymouth cricket</td>\n",
       "    </tr>\n",
       "    <tr>\n",
       "      <th>57</th>\n",
       "      <td>25.0</td>\n",
       "      <td>4</td>\n",
       "      <td>97.5</td>\n",
       "      <td>80</td>\n",
       "      <td>2126</td>\n",
       "      <td>17.0</td>\n",
       "      <td>72</td>\n",
       "      <td>1</td>\n",
       "      <td>dodge colt hardtop</td>\n",
       "    </tr>\n",
       "    <tr>\n",
       "      <th>59</th>\n",
       "      <td>20.0</td>\n",
       "      <td>4</td>\n",
       "      <td>140.0</td>\n",
       "      <td>90</td>\n",
       "      <td>2408</td>\n",
       "      <td>19.5</td>\n",
       "      <td>72</td>\n",
       "      <td>1</td>\n",
       "      <td>chevrolet vega</td>\n",
       "    </tr>\n",
       "    <tr>\n",
       "      <th>60</th>\n",
       "      <td>21.0</td>\n",
       "      <td>4</td>\n",
       "      <td>122.0</td>\n",
       "      <td>86</td>\n",
       "      <td>2226</td>\n",
       "      <td>16.5</td>\n",
       "      <td>72</td>\n",
       "      <td>1</td>\n",
       "      <td>ford pinto runabout</td>\n",
       "    </tr>\n",
       "    <tr>\n",
       "      <th>79</th>\n",
       "      <td>22.0</td>\n",
       "      <td>4</td>\n",
       "      <td>122.0</td>\n",
       "      <td>86</td>\n",
       "      <td>2395</td>\n",
       "      <td>16.0</td>\n",
       "      <td>72</td>\n",
       "      <td>1</td>\n",
       "      <td>ford pinto (sw)</td>\n",
       "    </tr>\n",
       "    <tr>\n",
       "      <th>82</th>\n",
       "      <td>28.0</td>\n",
       "      <td>4</td>\n",
       "      <td>98.0</td>\n",
       "      <td>80</td>\n",
       "      <td>2164</td>\n",
       "      <td>15.0</td>\n",
       "      <td>72</td>\n",
       "      <td>1</td>\n",
       "      <td>dodge colt (sw)</td>\n",
       "    </tr>\n",
       "    <tr>\n",
       "      <th>108</th>\n",
       "      <td>21.0</td>\n",
       "      <td>4</td>\n",
       "      <td>140.0</td>\n",
       "      <td>72</td>\n",
       "      <td>2401</td>\n",
       "      <td>19.5</td>\n",
       "      <td>73</td>\n",
       "      <td>1</td>\n",
       "      <td>chevrolet vega</td>\n",
       "    </tr>\n",
       "    <tr>\n",
       "      <th>111</th>\n",
       "      <td>19.0</td>\n",
       "      <td>4</td>\n",
       "      <td>122.0</td>\n",
       "      <td>85</td>\n",
       "      <td>2310</td>\n",
       "      <td>18.5</td>\n",
       "      <td>73</td>\n",
       "      <td>1</td>\n",
       "      <td>ford pinto</td>\n",
       "    </tr>\n",
       "    <tr>\n",
       "      <th>128</th>\n",
       "      <td>26.0</td>\n",
       "      <td>4</td>\n",
       "      <td>122.0</td>\n",
       "      <td>80</td>\n",
       "      <td>2451</td>\n",
       "      <td>16.5</td>\n",
       "      <td>74</td>\n",
       "      <td>1</td>\n",
       "      <td>ford pinto</td>\n",
       "    </tr>\n",
       "    <tr>\n",
       "      <th>130</th>\n",
       "      <td>25.0</td>\n",
       "      <td>4</td>\n",
       "      <td>140.0</td>\n",
       "      <td>75</td>\n",
       "      <td>2542</td>\n",
       "      <td>17.0</td>\n",
       "      <td>74</td>\n",
       "      <td>1</td>\n",
       "      <td>chevrolet vega</td>\n",
       "    </tr>\n",
       "    <tr>\n",
       "      <th>144</th>\n",
       "      <td>28.0</td>\n",
       "      <td>4</td>\n",
       "      <td>90.0</td>\n",
       "      <td>75</td>\n",
       "      <td>2125</td>\n",
       "      <td>14.5</td>\n",
       "      <td>74</td>\n",
       "      <td>1</td>\n",
       "      <td>dodge colt</td>\n",
       "    </tr>\n",
       "    <tr>\n",
       "      <th>166</th>\n",
       "      <td>23.0</td>\n",
       "      <td>4</td>\n",
       "      <td>140.0</td>\n",
       "      <td>83</td>\n",
       "      <td>2639</td>\n",
       "      <td>17.0</td>\n",
       "      <td>75</td>\n",
       "      <td>1</td>\n",
       "      <td>ford pinto</td>\n",
       "    </tr>\n",
       "    <tr>\n",
       "      <th>168</th>\n",
       "      <td>23.0</td>\n",
       "      <td>4</td>\n",
       "      <td>140.0</td>\n",
       "      <td>78</td>\n",
       "      <td>2592</td>\n",
       "      <td>18.5</td>\n",
       "      <td>75</td>\n",
       "      <td>1</td>\n",
       "      <td>pontiac astro</td>\n",
       "    </tr>\n",
       "    <tr>\n",
       "      <th>182</th>\n",
       "      <td>25.0</td>\n",
       "      <td>4</td>\n",
       "      <td>140.0</td>\n",
       "      <td>92</td>\n",
       "      <td>2572</td>\n",
       "      <td>14.9</td>\n",
       "      <td>76</td>\n",
       "      <td>1</td>\n",
       "      <td>capri ii</td>\n",
       "    </tr>\n",
       "    <tr>\n",
       "      <th>183</th>\n",
       "      <td>26.0</td>\n",
       "      <td>4</td>\n",
       "      <td>98.0</td>\n",
       "      <td>79</td>\n",
       "      <td>2255</td>\n",
       "      <td>17.7</td>\n",
       "      <td>76</td>\n",
       "      <td>1</td>\n",
       "      <td>dodge colt</td>\n",
       "    </tr>\n",
       "    <tr>\n",
       "      <th>193</th>\n",
       "      <td>29.0</td>\n",
       "      <td>4</td>\n",
       "      <td>85.0</td>\n",
       "      <td>52</td>\n",
       "      <td>2035</td>\n",
       "      <td>22.2</td>\n",
       "      <td>76</td>\n",
       "      <td>1</td>\n",
       "      <td>chevrolet chevette</td>\n",
       "    </tr>\n",
       "    <tr>\n",
       "      <th>194</th>\n",
       "      <td>24.5</td>\n",
       "      <td>4</td>\n",
       "      <td>98.0</td>\n",
       "      <td>60</td>\n",
       "      <td>2164</td>\n",
       "      <td>22.1</td>\n",
       "      <td>76</td>\n",
       "      <td>1</td>\n",
       "      <td>chevrolet woody</td>\n",
       "    </tr>\n",
       "    <tr>\n",
       "      <th>204</th>\n",
       "      <td>26.5</td>\n",
       "      <td>4</td>\n",
       "      <td>140.0</td>\n",
       "      <td>72</td>\n",
       "      <td>2565</td>\n",
       "      <td>13.6</td>\n",
       "      <td>76</td>\n",
       "      <td>1</td>\n",
       "      <td>ford pinto</td>\n",
       "    </tr>\n",
       "    <tr>\n",
       "      <th>215</th>\n",
       "      <td>30.0</td>\n",
       "      <td>4</td>\n",
       "      <td>111.0</td>\n",
       "      <td>80</td>\n",
       "      <td>2155</td>\n",
       "      <td>14.8</td>\n",
       "      <td>77</td>\n",
       "      <td>1</td>\n",
       "      <td>buick opel isuzu deluxe</td>\n",
       "    </tr>\n",
       "    <tr>\n",
       "      <th>217</th>\n",
       "      <td>25.5</td>\n",
       "      <td>4</td>\n",
       "      <td>122.0</td>\n",
       "      <td>96</td>\n",
       "      <td>2300</td>\n",
       "      <td>15.5</td>\n",
       "      <td>77</td>\n",
       "      <td>1</td>\n",
       "      <td>plymouth arrow gs</td>\n",
       "    </tr>\n",
       "    <tr>\n",
       "      <th>232</th>\n",
       "      <td>24.5</td>\n",
       "      <td>4</td>\n",
       "      <td>151.0</td>\n",
       "      <td>88</td>\n",
       "      <td>2740</td>\n",
       "      <td>16.0</td>\n",
       "      <td>77</td>\n",
       "      <td>1</td>\n",
       "      <td>pontiac sunbird coupe</td>\n",
       "    </tr>\n",
       "    <tr>\n",
       "      <th>234</th>\n",
       "      <td>25.5</td>\n",
       "      <td>4</td>\n",
       "      <td>140.0</td>\n",
       "      <td>89</td>\n",
       "      <td>2755</td>\n",
       "      <td>15.8</td>\n",
       "      <td>77</td>\n",
       "      <td>1</td>\n",
       "      <td>ford mustang ii 2+2</td>\n",
       "    </tr>\n",
       "    <tr>\n",
       "      <th>235</th>\n",
       "      <td>30.5</td>\n",
       "      <td>4</td>\n",
       "      <td>98.0</td>\n",
       "      <td>63</td>\n",
       "      <td>2051</td>\n",
       "      <td>17.0</td>\n",
       "      <td>77</td>\n",
       "      <td>1</td>\n",
       "      <td>chevrolet chevette</td>\n",
       "    </tr>\n",
       "    <tr>\n",
       "      <th>236</th>\n",
       "      <td>33.5</td>\n",
       "      <td>4</td>\n",
       "      <td>98.0</td>\n",
       "      <td>83</td>\n",
       "      <td>2075</td>\n",
       "      <td>15.9</td>\n",
       "      <td>77</td>\n",
       "      <td>1</td>\n",
       "      <td>dodge colt m/m</td>\n",
       "    </tr>\n",
       "    <tr>\n",
       "      <th>243</th>\n",
       "      <td>36.1</td>\n",
       "      <td>4</td>\n",
       "      <td>98.0</td>\n",
       "      <td>66</td>\n",
       "      <td>1800</td>\n",
       "      <td>14.4</td>\n",
       "      <td>78</td>\n",
       "      <td>1</td>\n",
       "      <td>ford fiesta</td>\n",
       "    </tr>\n",
       "    <tr>\n",
       "      <th>253</th>\n",
       "      <td>25.1</td>\n",
       "      <td>4</td>\n",
       "      <td>140.0</td>\n",
       "      <td>88</td>\n",
       "      <td>2720</td>\n",
       "      <td>15.4</td>\n",
       "      <td>78</td>\n",
       "      <td>1</td>\n",
       "      <td>ford fairmont (man)</td>\n",
       "    </tr>\n",
       "    <tr>\n",
       "      <th>264</th>\n",
       "      <td>30.0</td>\n",
       "      <td>4</td>\n",
       "      <td>98.0</td>\n",
       "      <td>68</td>\n",
       "      <td>2155</td>\n",
       "      <td>16.5</td>\n",
       "      <td>78</td>\n",
       "      <td>1</td>\n",
       "      <td>chevrolet chevette</td>\n",
       "    </tr>\n",
       "    <tr>\n",
       "      <th>...</th>\n",
       "      <td>...</td>\n",
       "      <td>...</td>\n",
       "      <td>...</td>\n",
       "      <td>...</td>\n",
       "      <td>...</td>\n",
       "      <td>...</td>\n",
       "      <td>...</td>\n",
       "      <td>...</td>\n",
       "      <td>...</td>\n",
       "    </tr>\n",
       "    <tr>\n",
       "      <th>306</th>\n",
       "      <td>33.5</td>\n",
       "      <td>4</td>\n",
       "      <td>151.0</td>\n",
       "      <td>90</td>\n",
       "      <td>2556</td>\n",
       "      <td>13.2</td>\n",
       "      <td>79</td>\n",
       "      <td>1</td>\n",
       "      <td>pontiac phoenix</td>\n",
       "    </tr>\n",
       "    <tr>\n",
       "      <th>309</th>\n",
       "      <td>32.1</td>\n",
       "      <td>4</td>\n",
       "      <td>98.0</td>\n",
       "      <td>70</td>\n",
       "      <td>2120</td>\n",
       "      <td>15.5</td>\n",
       "      <td>80</td>\n",
       "      <td>1</td>\n",
       "      <td>chevrolet chevette</td>\n",
       "    </tr>\n",
       "    <tr>\n",
       "      <th>311</th>\n",
       "      <td>28.0</td>\n",
       "      <td>4</td>\n",
       "      <td>151.0</td>\n",
       "      <td>90</td>\n",
       "      <td>2678</td>\n",
       "      <td>16.5</td>\n",
       "      <td>80</td>\n",
       "      <td>1</td>\n",
       "      <td>chevrolet citation</td>\n",
       "    </tr>\n",
       "    <tr>\n",
       "      <th>312</th>\n",
       "      <td>26.4</td>\n",
       "      <td>4</td>\n",
       "      <td>140.0</td>\n",
       "      <td>88</td>\n",
       "      <td>2870</td>\n",
       "      <td>18.1</td>\n",
       "      <td>80</td>\n",
       "      <td>1</td>\n",
       "      <td>ford fairmont</td>\n",
       "    </tr>\n",
       "    <tr>\n",
       "      <th>313</th>\n",
       "      <td>24.3</td>\n",
       "      <td>4</td>\n",
       "      <td>151.0</td>\n",
       "      <td>90</td>\n",
       "      <td>3003</td>\n",
       "      <td>20.1</td>\n",
       "      <td>80</td>\n",
       "      <td>1</td>\n",
       "      <td>amc concord</td>\n",
       "    </tr>\n",
       "    <tr>\n",
       "      <th>321</th>\n",
       "      <td>27.9</td>\n",
       "      <td>4</td>\n",
       "      <td>156.0</td>\n",
       "      <td>105</td>\n",
       "      <td>2800</td>\n",
       "      <td>14.4</td>\n",
       "      <td>80</td>\n",
       "      <td>1</td>\n",
       "      <td>dodge colt</td>\n",
       "    </tr>\n",
       "    <tr>\n",
       "      <th>334</th>\n",
       "      <td>27.2</td>\n",
       "      <td>4</td>\n",
       "      <td>135.0</td>\n",
       "      <td>84</td>\n",
       "      <td>2490</td>\n",
       "      <td>15.7</td>\n",
       "      <td>81</td>\n",
       "      <td>1</td>\n",
       "      <td>plymouth reliant</td>\n",
       "    </tr>\n",
       "    <tr>\n",
       "      <th>335</th>\n",
       "      <td>26.6</td>\n",
       "      <td>4</td>\n",
       "      <td>151.0</td>\n",
       "      <td>84</td>\n",
       "      <td>2635</td>\n",
       "      <td>16.4</td>\n",
       "      <td>81</td>\n",
       "      <td>1</td>\n",
       "      <td>buick skylark</td>\n",
       "    </tr>\n",
       "    <tr>\n",
       "      <th>336</th>\n",
       "      <td>25.8</td>\n",
       "      <td>4</td>\n",
       "      <td>156.0</td>\n",
       "      <td>92</td>\n",
       "      <td>2620</td>\n",
       "      <td>14.4</td>\n",
       "      <td>81</td>\n",
       "      <td>1</td>\n",
       "      <td>dodge aries wagon (sw)</td>\n",
       "    </tr>\n",
       "    <tr>\n",
       "      <th>338</th>\n",
       "      <td>30.0</td>\n",
       "      <td>4</td>\n",
       "      <td>135.0</td>\n",
       "      <td>84</td>\n",
       "      <td>2385</td>\n",
       "      <td>12.9</td>\n",
       "      <td>81</td>\n",
       "      <td>1</td>\n",
       "      <td>plymouth reliant</td>\n",
       "    </tr>\n",
       "    <tr>\n",
       "      <th>340</th>\n",
       "      <td>39.0</td>\n",
       "      <td>4</td>\n",
       "      <td>86.0</td>\n",
       "      <td>64</td>\n",
       "      <td>1875</td>\n",
       "      <td>16.4</td>\n",
       "      <td>81</td>\n",
       "      <td>1</td>\n",
       "      <td>plymouth champ</td>\n",
       "    </tr>\n",
       "    <tr>\n",
       "      <th>346</th>\n",
       "      <td>34.7</td>\n",
       "      <td>4</td>\n",
       "      <td>105.0</td>\n",
       "      <td>63</td>\n",
       "      <td>2215</td>\n",
       "      <td>14.9</td>\n",
       "      <td>81</td>\n",
       "      <td>1</td>\n",
       "      <td>plymouth horizon 4</td>\n",
       "    </tr>\n",
       "    <tr>\n",
       "      <th>347</th>\n",
       "      <td>34.4</td>\n",
       "      <td>4</td>\n",
       "      <td>98.0</td>\n",
       "      <td>65</td>\n",
       "      <td>2045</td>\n",
       "      <td>16.2</td>\n",
       "      <td>81</td>\n",
       "      <td>1</td>\n",
       "      <td>ford escort 4w</td>\n",
       "    </tr>\n",
       "    <tr>\n",
       "      <th>348</th>\n",
       "      <td>29.9</td>\n",
       "      <td>4</td>\n",
       "      <td>98.0</td>\n",
       "      <td>65</td>\n",
       "      <td>2380</td>\n",
       "      <td>20.7</td>\n",
       "      <td>81</td>\n",
       "      <td>1</td>\n",
       "      <td>ford escort 2h</td>\n",
       "    </tr>\n",
       "    <tr>\n",
       "      <th>362</th>\n",
       "      <td>28.0</td>\n",
       "      <td>4</td>\n",
       "      <td>112.0</td>\n",
       "      <td>88</td>\n",
       "      <td>2605</td>\n",
       "      <td>19.6</td>\n",
       "      <td>82</td>\n",
       "      <td>1</td>\n",
       "      <td>chevrolet cavalier</td>\n",
       "    </tr>\n",
       "    <tr>\n",
       "      <th>363</th>\n",
       "      <td>27.0</td>\n",
       "      <td>4</td>\n",
       "      <td>112.0</td>\n",
       "      <td>88</td>\n",
       "      <td>2640</td>\n",
       "      <td>18.6</td>\n",
       "      <td>82</td>\n",
       "      <td>1</td>\n",
       "      <td>chevrolet cavalier wagon</td>\n",
       "    </tr>\n",
       "    <tr>\n",
       "      <th>364</th>\n",
       "      <td>34.0</td>\n",
       "      <td>4</td>\n",
       "      <td>112.0</td>\n",
       "      <td>88</td>\n",
       "      <td>2395</td>\n",
       "      <td>18.0</td>\n",
       "      <td>82</td>\n",
       "      <td>1</td>\n",
       "      <td>chevrolet cavalier 2-door</td>\n",
       "    </tr>\n",
       "    <tr>\n",
       "      <th>365</th>\n",
       "      <td>31.0</td>\n",
       "      <td>4</td>\n",
       "      <td>112.0</td>\n",
       "      <td>85</td>\n",
       "      <td>2575</td>\n",
       "      <td>16.2</td>\n",
       "      <td>82</td>\n",
       "      <td>1</td>\n",
       "      <td>pontiac j2000 se hatchback</td>\n",
       "    </tr>\n",
       "    <tr>\n",
       "      <th>366</th>\n",
       "      <td>29.0</td>\n",
       "      <td>4</td>\n",
       "      <td>135.0</td>\n",
       "      <td>84</td>\n",
       "      <td>2525</td>\n",
       "      <td>16.0</td>\n",
       "      <td>82</td>\n",
       "      <td>1</td>\n",
       "      <td>dodge aries se</td>\n",
       "    </tr>\n",
       "    <tr>\n",
       "      <th>367</th>\n",
       "      <td>27.0</td>\n",
       "      <td>4</td>\n",
       "      <td>151.0</td>\n",
       "      <td>90</td>\n",
       "      <td>2735</td>\n",
       "      <td>18.0</td>\n",
       "      <td>82</td>\n",
       "      <td>1</td>\n",
       "      <td>pontiac phoenix</td>\n",
       "    </tr>\n",
       "    <tr>\n",
       "      <th>368</th>\n",
       "      <td>24.0</td>\n",
       "      <td>4</td>\n",
       "      <td>140.0</td>\n",
       "      <td>92</td>\n",
       "      <td>2865</td>\n",
       "      <td>16.4</td>\n",
       "      <td>82</td>\n",
       "      <td>1</td>\n",
       "      <td>ford fairmont futura</td>\n",
       "    </tr>\n",
       "    <tr>\n",
       "      <th>372</th>\n",
       "      <td>38.0</td>\n",
       "      <td>4</td>\n",
       "      <td>105.0</td>\n",
       "      <td>63</td>\n",
       "      <td>2125</td>\n",
       "      <td>14.7</td>\n",
       "      <td>82</td>\n",
       "      <td>1</td>\n",
       "      <td>plymouth horizon miser</td>\n",
       "    </tr>\n",
       "    <tr>\n",
       "      <th>373</th>\n",
       "      <td>36.0</td>\n",
       "      <td>4</td>\n",
       "      <td>98.0</td>\n",
       "      <td>70</td>\n",
       "      <td>2125</td>\n",
       "      <td>17.3</td>\n",
       "      <td>82</td>\n",
       "      <td>1</td>\n",
       "      <td>mercury lynx l</td>\n",
       "    </tr>\n",
       "    <tr>\n",
       "      <th>382</th>\n",
       "      <td>26.0</td>\n",
       "      <td>4</td>\n",
       "      <td>156.0</td>\n",
       "      <td>92</td>\n",
       "      <td>2585</td>\n",
       "      <td>14.5</td>\n",
       "      <td>82</td>\n",
       "      <td>1</td>\n",
       "      <td>chrysler lebaron medallion</td>\n",
       "    </tr>\n",
       "    <tr>\n",
       "      <th>385</th>\n",
       "      <td>36.0</td>\n",
       "      <td>4</td>\n",
       "      <td>135.0</td>\n",
       "      <td>84</td>\n",
       "      <td>2370</td>\n",
       "      <td>13.0</td>\n",
       "      <td>82</td>\n",
       "      <td>1</td>\n",
       "      <td>dodge charger 2.2</td>\n",
       "    </tr>\n",
       "    <tr>\n",
       "      <th>386</th>\n",
       "      <td>27.0</td>\n",
       "      <td>4</td>\n",
       "      <td>151.0</td>\n",
       "      <td>90</td>\n",
       "      <td>2950</td>\n",
       "      <td>17.3</td>\n",
       "      <td>82</td>\n",
       "      <td>1</td>\n",
       "      <td>chevrolet camaro</td>\n",
       "    </tr>\n",
       "    <tr>\n",
       "      <th>387</th>\n",
       "      <td>27.0</td>\n",
       "      <td>4</td>\n",
       "      <td>140.0</td>\n",
       "      <td>86</td>\n",
       "      <td>2790</td>\n",
       "      <td>15.6</td>\n",
       "      <td>82</td>\n",
       "      <td>1</td>\n",
       "      <td>ford mustang gl</td>\n",
       "    </tr>\n",
       "    <tr>\n",
       "      <th>389</th>\n",
       "      <td>32.0</td>\n",
       "      <td>4</td>\n",
       "      <td>135.0</td>\n",
       "      <td>84</td>\n",
       "      <td>2295</td>\n",
       "      <td>11.6</td>\n",
       "      <td>82</td>\n",
       "      <td>1</td>\n",
       "      <td>dodge rampage</td>\n",
       "    </tr>\n",
       "    <tr>\n",
       "      <th>390</th>\n",
       "      <td>28.0</td>\n",
       "      <td>4</td>\n",
       "      <td>120.0</td>\n",
       "      <td>79</td>\n",
       "      <td>2625</td>\n",
       "      <td>18.6</td>\n",
       "      <td>82</td>\n",
       "      <td>1</td>\n",
       "      <td>ford ranger</td>\n",
       "    </tr>\n",
       "    <tr>\n",
       "      <th>391</th>\n",
       "      <td>31.0</td>\n",
       "      <td>4</td>\n",
       "      <td>119.0</td>\n",
       "      <td>82</td>\n",
       "      <td>2720</td>\n",
       "      <td>19.4</td>\n",
       "      <td>82</td>\n",
       "      <td>1</td>\n",
       "      <td>chevy s-10</td>\n",
       "    </tr>\n",
       "  </tbody>\n",
       "</table>\n",
       "<p>69 rows × 9 columns</p>\n",
       "</div>"
      ],
      "text/plain": [
       "      mpg  cylinders  displacement  horsepower  weight  acceleration  \\\n",
       "30   28.0          4         140.0          90    2264          15.5   \n",
       "45   22.0          4         140.0          72    2408          19.0   \n",
       "48   23.0          4         122.0          86    2220          14.0   \n",
       "55   26.0          4          91.0          70    1955          20.5   \n",
       "57   25.0          4          97.5          80    2126          17.0   \n",
       "59   20.0          4         140.0          90    2408          19.5   \n",
       "60   21.0          4         122.0          86    2226          16.5   \n",
       "79   22.0          4         122.0          86    2395          16.0   \n",
       "82   28.0          4          98.0          80    2164          15.0   \n",
       "108  21.0          4         140.0          72    2401          19.5   \n",
       "111  19.0          4         122.0          85    2310          18.5   \n",
       "128  26.0          4         122.0          80    2451          16.5   \n",
       "130  25.0          4         140.0          75    2542          17.0   \n",
       "144  28.0          4          90.0          75    2125          14.5   \n",
       "166  23.0          4         140.0          83    2639          17.0   \n",
       "168  23.0          4         140.0          78    2592          18.5   \n",
       "182  25.0          4         140.0          92    2572          14.9   \n",
       "183  26.0          4          98.0          79    2255          17.7   \n",
       "193  29.0          4          85.0          52    2035          22.2   \n",
       "194  24.5          4          98.0          60    2164          22.1   \n",
       "204  26.5          4         140.0          72    2565          13.6   \n",
       "215  30.0          4         111.0          80    2155          14.8   \n",
       "217  25.5          4         122.0          96    2300          15.5   \n",
       "232  24.5          4         151.0          88    2740          16.0   \n",
       "234  25.5          4         140.0          89    2755          15.8   \n",
       "235  30.5          4          98.0          63    2051          17.0   \n",
       "236  33.5          4          98.0          83    2075          15.9   \n",
       "243  36.1          4          98.0          66    1800          14.4   \n",
       "253  25.1          4         140.0          88    2720          15.4   \n",
       "264  30.0          4          98.0          68    2155          16.5   \n",
       "..    ...        ...           ...         ...     ...           ...   \n",
       "306  33.5          4         151.0          90    2556          13.2   \n",
       "309  32.1          4          98.0          70    2120          15.5   \n",
       "311  28.0          4         151.0          90    2678          16.5   \n",
       "312  26.4          4         140.0          88    2870          18.1   \n",
       "313  24.3          4         151.0          90    3003          20.1   \n",
       "321  27.9          4         156.0         105    2800          14.4   \n",
       "334  27.2          4         135.0          84    2490          15.7   \n",
       "335  26.6          4         151.0          84    2635          16.4   \n",
       "336  25.8          4         156.0          92    2620          14.4   \n",
       "338  30.0          4         135.0          84    2385          12.9   \n",
       "340  39.0          4          86.0          64    1875          16.4   \n",
       "346  34.7          4         105.0          63    2215          14.9   \n",
       "347  34.4          4          98.0          65    2045          16.2   \n",
       "348  29.9          4          98.0          65    2380          20.7   \n",
       "362  28.0          4         112.0          88    2605          19.6   \n",
       "363  27.0          4         112.0          88    2640          18.6   \n",
       "364  34.0          4         112.0          88    2395          18.0   \n",
       "365  31.0          4         112.0          85    2575          16.2   \n",
       "366  29.0          4         135.0          84    2525          16.0   \n",
       "367  27.0          4         151.0          90    2735          18.0   \n",
       "368  24.0          4         140.0          92    2865          16.4   \n",
       "372  38.0          4         105.0          63    2125          14.7   \n",
       "373  36.0          4          98.0          70    2125          17.3   \n",
       "382  26.0          4         156.0          92    2585          14.5   \n",
       "385  36.0          4         135.0          84    2370          13.0   \n",
       "386  27.0          4         151.0          90    2950          17.3   \n",
       "387  27.0          4         140.0          86    2790          15.6   \n",
       "389  32.0          4         135.0          84    2295          11.6   \n",
       "390  28.0          4         120.0          79    2625          18.6   \n",
       "391  31.0          4         119.0          82    2720          19.4   \n",
       "\n",
       "     model_year  origin                    car_name  \n",
       "30           71       1         chevrolet vega 2300  \n",
       "45           71       1         chevrolet vega (sw)  \n",
       "48           71       1          mercury capri 2000  \n",
       "55           71       1            plymouth cricket  \n",
       "57           72       1          dodge colt hardtop  \n",
       "59           72       1              chevrolet vega  \n",
       "60           72       1         ford pinto runabout  \n",
       "79           72       1             ford pinto (sw)  \n",
       "82           72       1             dodge colt (sw)  \n",
       "108          73       1              chevrolet vega  \n",
       "111          73       1                  ford pinto  \n",
       "128          74       1                  ford pinto  \n",
       "130          74       1              chevrolet vega  \n",
       "144          74       1                  dodge colt  \n",
       "166          75       1                  ford pinto  \n",
       "168          75       1               pontiac astro  \n",
       "182          76       1                    capri ii  \n",
       "183          76       1                  dodge colt  \n",
       "193          76       1          chevrolet chevette  \n",
       "194          76       1             chevrolet woody  \n",
       "204          76       1                  ford pinto  \n",
       "215          77       1     buick opel isuzu deluxe  \n",
       "217          77       1           plymouth arrow gs  \n",
       "232          77       1       pontiac sunbird coupe  \n",
       "234          77       1         ford mustang ii 2+2  \n",
       "235          77       1          chevrolet chevette  \n",
       "236          77       1              dodge colt m/m  \n",
       "243          78       1                 ford fiesta  \n",
       "253          78       1         ford fairmont (man)  \n",
       "264          78       1          chevrolet chevette  \n",
       "..          ...     ...                         ...  \n",
       "306          79       1             pontiac phoenix  \n",
       "309          80       1          chevrolet chevette  \n",
       "311          80       1          chevrolet citation  \n",
       "312          80       1               ford fairmont  \n",
       "313          80       1                 amc concord  \n",
       "321          80       1                  dodge colt  \n",
       "334          81       1            plymouth reliant  \n",
       "335          81       1               buick skylark  \n",
       "336          81       1      dodge aries wagon (sw)  \n",
       "338          81       1            plymouth reliant  \n",
       "340          81       1              plymouth champ  \n",
       "346          81       1          plymouth horizon 4  \n",
       "347          81       1              ford escort 4w  \n",
       "348          81       1              ford escort 2h  \n",
       "362          82       1          chevrolet cavalier  \n",
       "363          82       1    chevrolet cavalier wagon  \n",
       "364          82       1   chevrolet cavalier 2-door  \n",
       "365          82       1  pontiac j2000 se hatchback  \n",
       "366          82       1              dodge aries se  \n",
       "367          82       1             pontiac phoenix  \n",
       "368          82       1        ford fairmont futura  \n",
       "372          82       1      plymouth horizon miser  \n",
       "373          82       1              mercury lynx l  \n",
       "382          82       1  chrysler lebaron medallion  \n",
       "385          82       1           dodge charger 2.2  \n",
       "386          82       1            chevrolet camaro  \n",
       "387          82       1             ford mustang gl  \n",
       "389          82       1               dodge rampage  \n",
       "390          82       1                 ford ranger  \n",
       "391          82       1                  chevy s-10  \n",
       "\n",
       "[69 rows x 9 columns]"
      ]
     },
     "execution_count": 105,
     "metadata": {},
     "output_type": "execute_result"
    }
   ],
   "source": [
    "auto_mpg_us_4_cylinders_df"
   ]
  }
 ],
 "metadata": {
  "kernelspec": {
   "display_name": "Python 2",
   "language": "python",
   "name": "python2"
  },
  "language_info": {
   "codemirror_mode": {
    "name": "ipython",
    "version": 2
   },
   "file_extension": ".py",
   "mimetype": "text/x-python",
   "name": "python",
   "nbconvert_exporter": "python",
   "pygments_lexer": "ipython2",
   "version": "2.7.10"
  }
 },
 "nbformat": 4,
 "nbformat_minor": 0
}
